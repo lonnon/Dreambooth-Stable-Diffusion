{
 "cells": [
  {
   "cell_type": "markdown",
   "id": "aa2c1ada",
   "metadata": {
    "id": "aa2c1ada"
   },
   "source": [
    "# Dreambooth\n",
    "Notebook implementation by Joe Penna (@MysteryGuitarM on Twitter) - Improvements by David Bielejeski\n",
    "Personal workflow improvements by Lonnon Foster (lonnon@lonnon.com)\n",
    "\n",
    "Latest information on:\n",
    "https://github.com/JoePenna/Dreambooth-Stable-Diffusion"
   ]
  },
  {
   "cell_type": "markdown",
   "id": "7b971cc0",
   "metadata": {
    "id": "7b971cc0"
   },
   "source": [
    "## Build Environment"
   ]
  },
  {
   "cell_type": "code",
   "execution_count": null,
   "id": "9e1bc458-091b-42f4-a125-c3f0df20f29d",
   "metadata": {
    "id": "9e1bc458-091b-42f4-a125-c3f0df20f29d",
    "scrolled": true
   },
   "outputs": [],
   "source": [
    "!pip install omegaconf\n",
    "!pip install einops\n",
    "!pip install pytorch-lightning==1.6.5\n",
    "!pip install test-tube\n",
    "!pip install transformers\n",
    "!pip install kornia\n",
    "!pip install -e git+https://github.com/CompVis/taming-transformers.git@master#egg=taming-transformers\n",
    "!pip install -e git+https://github.com/openai/CLIP.git@main#egg=clip\n",
    "!pip install setuptools==59.5.0\n",
    "!pip install pillow==9.0.1\n",
    "!pip install torchmetrics==0.6.0\n",
    "!pip install -e .\n",
    "!pip install protobuf==3.20.1\n",
    "!pip install gdown\n",
    "!pip install -qq diffusers[\"training\"]==0.3.0 transformers ftfy\n",
    "!pip install -qq \"ipywidgets>=7,<8\"\n",
    "!pip install huggingface_hub\n",
    "!pip install ipywidgets==7.7.1\n",
    "!pip install pydrive2\n",
    "\n",
    "# Import some modules we'll need\n",
    "import os\n",
    "from pydrive2.auth import GoogleAuth\n",
    "from pydrive2.drive import GoogleDrive"
   ]
  },
  {
   "cell_type": "markdown",
   "id": "00036da1",
   "metadata": {},
   "source": [
    "## Download SD Model"
   ]
  },
  {
   "cell_type": "code",
   "execution_count": null,
   "id": "dae11c10",
   "metadata": {
    "id": "dae11c10"
   },
   "outputs": [],
   "source": [
    "MODEL_ID = '1uOg7A5w_ypSxhoG176Naf0HICfKTLxP9'\n",
    "\n",
    "gauth = GoogleAuth()\n",
    "gauth.CommandLineAuth()\n",
    "drive = GoogleDrive(gauth)\n",
    "sd_model = drive.CreateFile({'id': MODEL_ID})\n",
    "sd_model.GetContentFile('model.ckpt')\n",
    "print('✅ model.ckpt successfully downloaded')"
   ]
  },
  {
   "cell_type": "markdown",
   "id": "17d1d11a",
   "metadata": {
    "id": "17d1d11a"
   },
   "source": [
    "## Download Regularization Images"
   ]
  },
  {
   "cell_type": "code",
   "execution_count": null,
   "id": "67f9ff0c-b529-4c7c-8e26-8388d70a5d91",
   "metadata": {
    "id": "67f9ff0c-b529-4c7c-8e26-8388d70a5d91"
   },
   "outputs": [],
   "source": [
    "REG_ID = '1xPee7IopXCmzyG45EccIuCSTgbjItsQP'\n",
    "\n",
    "reg_dir = drive.CreateFile\n",
    "image_list = drive.ListFile(\n",
    "    {'q': f\"'{REG_ID}' in parents\"}\n",
    ").GetList()\n",
    "for image in image_list:\n",
    "    ifile = drive.CreateFile({'id': image['id']})\n",
    "    ifile.GetContentFile(os.path.join('regularization_images', image['title']))\n",
    "print('✅ regularization images successfully downloaded')"
   ]
  },
  {
   "cell_type": "markdown",
   "id": "ad4e50df",
   "metadata": {
    "id": "ad4e50df"
   },
   "source": [
    "## Training\n",
    "\n",
    "If training a person or subject, keep an eye on your project's `logs/{folder}/images/train/samples_scaled_gs-00xxxx` generations.\n",
    "\n",
    "If training a style, keep an eye on your project's `logs/{folder}/images/train/samples_gs-00xxxx` generations."
   ]
  },
  {
   "cell_type": "code",
   "execution_count": null,
   "id": "6fa5dd66-2ca0-4819-907e-802e25583ae6",
   "metadata": {
    "id": "6fa5dd66-2ca0-4819-907e-802e25583ae6",
    "tags": []
   },
   "outputs": [],
   "source": [
    "project_name = \"project_name\"\n",
    "max_training_steps = 2000\n",
    "token = \"firstNameLastName\"\n",
    "class_word = \"person\"\n",
    "\n",
    "!rm -rf training_images/.ipynb_checkpoints\n",
    "!python \"main.py\" \\\n",
    " --base configs/stable-diffusion/v1-finetune_unfrozen.yaml \\\n",
    " -t \\\n",
    " --actual_resume \"model.ckpt\" \\\n",
    " --reg_data_root \"/workspace/Dreambooth-Stable-Diffusion/regularization_images\" \\\n",
    " -n \"{project_name}\" \\\n",
    " --gpus 0, \\\n",
    " --data_root \"/workspace/Dreambooth-Stable-Diffusion/training_images\" \\\n",
    " --max_training_steps {max_training_steps} \\\n",
    " --class_word \"{class_word}\" \\\n",
    " --token \"{token}\" \\\n",
    " --no-test"
   ]
  },
  {
   "cell_type": "markdown",
   "id": "dc49d0bd",
   "metadata": {},
   "source": [
    "## Copy current checkpoint\n",
    "Run as necessary during training to take a snapshot of the most recent checkpoint."
   ]
  },
  {
   "cell_type": "code",
   "execution_count": null,
   "id": "e70aa685",
   "metadata": {},
   "outputs": [],
   "source": [
    "current_steps = '1600'\n",
    "\n",
    "directory_paths = !ls -d logs/*\n",
    "last_checkpoint_file = os.path.join(directory_paths[-1], \"checkpoints/last.ckpt\")\n",
    "new_checkpoint_file = f\"{project_name}_{current_steps}\"\n",
    "\n",
    "!cp \"{last_checkpoint_file}\" \"{new_checkpoint_file}\""
   ]
  },
  {
   "cell_type": "markdown",
   "id": "db863da1",
   "metadata": {},
   "source": [
    "## Upload checkpoint to google drive"
   ]
  },
  {
   "cell_type": "code",
   "execution_count": null,
   "id": "9ae70e7b",
   "metadata": {},
   "outputs": [],
   "source": [
    "new_model = drive.CreateFile()\n",
    "new_model.SetContentFile(new_checkpoint_file)\n",
    "new_model.Upload()"
   ]
  }
 ],
 "metadata": {
  "colab": {
   "collapsed_sections": [],
   "provenance": []
  },
  "kernelspec": {
   "display_name": "Python 3 (ipykernel)",
   "language": "python",
   "name": "python3"
  },
  "language_info": {
   "codemirror_mode": {
    "name": "ipython",
    "version": 3
   },
   "file_extension": ".py",
   "mimetype": "text/x-python",
   "name": "python",
   "nbconvert_exporter": "python",
   "pygments_lexer": "ipython3",
   "version": "3.8.13"
  },
  "vscode": {
   "interpreter": {
    "hash": "b0fa6594d8f4cbf19f97940f81e996739fb7646882a419484c72d19e05852a7e"
   }
  }
 },
 "nbformat": 4,
 "nbformat_minor": 5
}
